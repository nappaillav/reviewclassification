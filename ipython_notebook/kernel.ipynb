{
 "cells": [
  {
   "cell_type": "code",
   "execution_count": 45,
   "metadata": {
    "_cell_guid": "b1076dfc-b9ad-4769-8c92-a6c4dae69d19",
    "_uuid": "8f2839f25d086af736a60e9eeb907d3b93b6e0e5",
    "collapsed": false
   },
   "outputs": [
    {
     "name": "stdout",
     "output_type": "stream",
     "text": [
      "['rejectPaperDetails_2018.xlsx', 'acceptrejectPaperDetails_2017.xlsx', 'acceptedPaperDetails_2018.xlsx']\n"
     ]
    }
   ],
   "source": [
    "# This Python 3 environment comes with many helpful analytics libraries installed\n",
    "# It is defined by the kaggle/python docker image: https://github.com/kaggle/docker-python\n",
    "# For example, here's several helpful packages to load in \n",
    "\n",
    "import numpy as np # linear algebra\n",
    "import pandas as pd # data processing, CSV file I/O (e.g. pd.read_csv)\n",
    "from matplotlib import pyplot as plt\n",
    "from sklearn.metrics import accuracy_score\n",
    "# Input data files are available in the \"../input/\" directory.\n",
    "# For example, running this (by clicking run or pressing Shift+Enter) will list the files in the input directory\n",
    "\n",
    "import os\n",
    "print(os.listdir(\"../input\"))\n",
    "\n",
    "# Any results you write to the current directory are saved as output."
   ]
  },
  {
   "cell_type": "code",
   "execution_count": 8,
   "metadata": {
    "_uuid": "27e1a37fcb910179edef71d80dcaa4f76d036047",
    "collapsed": true
   },
   "outputs": [],
   "source": [
    "def text_toscore(temp):\n",
    "    temp = temp.split()\n",
    "    score = [float(i) for i in temp]\n",
    "    m = np.mean(score)\n",
    "    s = np.std(score)\n",
    "    return score,m,s\n",
    "\n"
   ]
  },
  {
   "cell_type": "code",
   "execution_count": 9,
   "metadata": {
    "_cell_guid": "79c7e3d0-c299-4dcb-8224-4455121ee9b0",
    "_uuid": "d629ff2d2480ee46fbb7e2d37f6b5fab8052498a",
    "collapsed": false
   },
   "outputs": [
    {
     "name": "stdout",
     "output_type": "stream",
     "text": [
      "<class 'pandas.core.frame.DataFrame'>\n",
      "RangeIndex: 794 entries, 0 to 793\n",
      "Data columns (total 5 columns):\n",
      "Submission ID    794 non-null int64\n",
      "Title            794 non-null object\n",
      "Abstract         793 non-null object\n",
      "result           794 non-null float64\n",
      "mean             794 non-null float64\n",
      "dtypes: float64(2), int64(1), object(2)\n",
      "memory usage: 31.1+ KB\n",
      "<class 'pandas.core.frame.DataFrame'>\n",
      "RangeIndex: 677 entries, 0 to 676\n",
      "Data columns (total 5 columns):\n",
      "Submission ID    677 non-null int64\n",
      "Title            677 non-null object\n",
      "Abstract         677 non-null object\n",
      "result           677 non-null float64\n",
      "mean             677 non-null float64\n",
      "dtypes: float64(2), int64(1), object(2)\n",
      "memory usage: 26.5+ KB\n"
     ]
    }
   ],
   "source": [
    "# reading 2017 scores\n",
    "Accept_2017=pd.read_excel('../input/acceptrejectPaperDetails_2017.xlsx',sheet_name=\"Accept\");\n",
    "Reject_2017=pd.read_excel('../input/acceptrejectPaperDetails_2017.xlsx',sheet_name=\"Reject\");\n",
    "Scores_2017=pd.read_excel('../input/acceptrejectPaperDetails_2017.xlsx',sheet_name=\"Scores\");\n",
    "\n",
    "# adding results and mean score attribute\n",
    "Accept_2017.drop(['Unnamed: 1'],axis=1,inplace=True)\n",
    "Accept_2017[\"result\"]=pd.Series(np.zeros(len(Accept_2017),dtype=float)) \n",
    "Accept_2017[\"mean\"]=pd.Series(np.zeros(len(Accept_2017),dtype=float)) \n",
    "Accept_2017.info()\n",
    "Reject_2017.drop(['Unnamed: 1'],axis=1,inplace=True)\n",
    "Reject_2017[\"result\"]=pd.Series(np.ones(len(Reject_2017),dtype=float)) \n",
    "Reject_2017[\"mean\"]=pd.Series(np.zeros(len(Reject_2017),dtype=float)) \n",
    "Reject_2017.info()\n",
    "\n",
    "# merging the table with common submission ID\n",
    "result_rej = pd.merge(Scores_2017,Reject_2017[['Submission ID','Title','Abstract','result','mean']]\n",
    "                 ,on='Submission ID')\n",
    "result_acc = pd.merge(Scores_2017,Accept_2017[['Submission ID','Title','Abstract','result','mean']]\n",
    "                 ,on='Submission ID')\n",
    "\n",
    "# appending the accepted scores and rejected scores\n",
    "data_2017 = result_acc.append(result_rej, ignore_index=True)\n",
    "#type(result_2017.sort_values[])\n"
   ]
  },
  {
   "cell_type": "code",
   "execution_count": 10,
   "metadata": {
    "_uuid": "a2b515321c04d7c15d93079fab0bb2fa79e4a571",
    "collapsed": false
   },
   "outputs": [
    {
     "name": "stdout",
     "output_type": "stream",
     "text": [
      "<class 'pandas.core.frame.DataFrame'>\n",
      "Int64Index: 1471 entries, 1412 to 780\n",
      "Data columns (total 6 columns):\n",
      "Submission ID    1471 non-null int64\n",
      "Scores           1471 non-null object\n",
      "Title            1471 non-null object\n",
      "Abstract         1471 non-null object\n",
      "result           1471 non-null float64\n",
      "mean             1471 non-null float64\n",
      "dtypes: float64(2), int64(1), object(3)\n",
      "memory usage: 80.4+ KB\n"
     ]
    },
    {
     "data": {
      "text/html": [
       "<div>\n",
       "<style scoped>\n",
       "    .dataframe tbody tr th:only-of-type {\n",
       "        vertical-align: middle;\n",
       "    }\n",
       "\n",
       "    .dataframe tbody tr th {\n",
       "        vertical-align: top;\n",
       "    }\n",
       "\n",
       "    .dataframe thead th {\n",
       "        text-align: right;\n",
       "    }\n",
       "</style>\n",
       "<table border=\"1\" class=\"dataframe\">\n",
       "  <thead>\n",
       "    <tr style=\"text-align: right;\">\n",
       "      <th></th>\n",
       "      <th>Submission ID</th>\n",
       "      <th>Scores</th>\n",
       "      <th>Title</th>\n",
       "      <th>Abstract</th>\n",
       "      <th>result</th>\n",
       "      <th>mean</th>\n",
       "    </tr>\n",
       "  </thead>\n",
       "  <tbody>\n",
       "    <tr>\n",
       "      <th>641</th>\n",
       "      <td>1409</td>\n",
       "      <td>4.95    5.65    5.70    6</td>\n",
       "      <td>What do babies hear? Analyses of child- and ad...</td>\n",
       "      <td>Child-directed speech is argued to facilitate ...</td>\n",
       "      <td>0.0</td>\n",
       "      <td>5.5750</td>\n",
       "    </tr>\n",
       "    <tr>\n",
       "      <th>664</th>\n",
       "      <td>1452</td>\n",
       "      <td>5.05    5.60    5.95    6</td>\n",
       "      <td>Tacotron: Towards End-To-End Speech Synthesis</td>\n",
       "      <td>A text-to-speech synthesis system typically co...</td>\n",
       "      <td>0.0</td>\n",
       "      <td>5.6500</td>\n",
       "    </tr>\n",
       "    <tr>\n",
       "      <th>65</th>\n",
       "      <td>137</td>\n",
       "      <td>5.15    5.80    5.80    5.85</td>\n",
       "      <td>A Generative Model for Score Normalization in ...</td>\n",
       "      <td>We propose a theoretical framework for thinkin...</td>\n",
       "      <td>0.0</td>\n",
       "      <td>5.6500</td>\n",
       "    </tr>\n",
       "    <tr>\n",
       "      <th>500</th>\n",
       "      <td>1111</td>\n",
       "      <td>4.90    5.80    6    6</td>\n",
       "      <td>The ASVspoof 2017 Challenge: Assessing the Lim...</td>\n",
       "      <td>The ASVspoof initiative was created to promote...</td>\n",
       "      <td>0.0</td>\n",
       "      <td>5.6750</td>\n",
       "    </tr>\n",
       "    <tr>\n",
       "      <th>780</th>\n",
       "      <td>1746</td>\n",
       "      <td>5.05    5.90    6    6</td>\n",
       "      <td>Effects of Talker Dialect, Gender &amp; Race Diffe...</td>\n",
       "      <td>This project compares the accuracy of two auto...</td>\n",
       "      <td>0.0</td>\n",
       "      <td>5.7375</td>\n",
       "    </tr>\n",
       "  </tbody>\n",
       "</table>\n",
       "</div>"
      ],
      "text/plain": [
       "     Submission ID                            Scores   ...   result    mean\n",
       "641           1409     4.95    5.65    5.70    6       ...      0.0  5.5750\n",
       "664           1452     5.05    5.60    5.95    6       ...      0.0  5.6500\n",
       "65             137  5.15    5.80    5.80    5.85       ...      0.0  5.6500\n",
       "500           1111        4.90    5.80    6    6       ...      0.0  5.6750\n",
       "780           1746        5.05    5.90    6    6       ...      0.0  5.7375\n",
       "\n",
       "[5 rows x 6 columns]"
      ]
     },
     "execution_count": 10,
     "metadata": {},
     "output_type": "execute_result"
    }
   ],
   "source": [
    "for i in data_2017.index:\n",
    "    #print(i)\n",
    "    temp = data_2017.iloc[i][\"Scores\"]\n",
    "    #print(temp)\n",
    "    score,m,s = text_toscore(temp) \n",
    "    #print(m)\n",
    "    data_2017.at[i, 'mean'] = m\n",
    "    \n",
    "\n",
    "data_2017 = data_2017.fillna(\"\")\n",
    "data = data_2017.sort_values(by=['mean'])\n",
    "data.info()\n",
    "data.tail()"
   ]
  },
  {
   "cell_type": "code",
   "execution_count": 14,
   "metadata": {
    "_uuid": "4f212c23b7fca50b483427f1df58933cd0fe0265",
    "collapsed": true
   },
   "outputs": [],
   "source": [
    "input_scores=np.zeros((len(data),6)) \n",
    "output_class=np.zeros((len(data),))\n",
    "count = 0\n",
    "for i in range(len(data)):\n",
    "    #print(i)\n",
    "    temp = data.iloc[i][\"Scores\"]\n",
    "    result = data.iloc[i][\"result\"]\n",
    "    #print(temp)\n",
    "    score,m,s = text_toscore(temp) \n",
    "    #print(m)\n",
    "    input_scores[count,0:len(score)]=score\n",
    "    output_class[count] = result\n",
    "    count+=1\n",
    "    "
   ]
  },
  {
   "cell_type": "code",
   "execution_count": 41,
   "metadata": {
    "_uuid": "0b44acaf5359bbbe307860361a705538ef615360",
    "collapsed": false
   },
   "outputs": [
    {
     "name": "stdout",
     "output_type": "stream",
     "text": [
      "[4.9  4.95 4.95 5.   0.   0.  ]\n",
      "0.0\n"
     ]
    }
   ],
   "source": [
    "print(input_scores[1366])\n",
    "print(output_class[1366])"
   ]
  },
  {
   "cell_type": "code",
   "execution_count": 102,
   "metadata": {
    "_uuid": "3910238d446b094a66b1c9cdca5f51f0f65ec0bc",
    "collapsed": true
   },
   "outputs": [],
   "source": [
    "def scores_covertion(X_scores):\n",
    "    X_new = np.zeros((len(X_scores),11))\n",
    "    count = 0\n",
    "    addon = 0\n",
    "    for i in X_scores:\n",
    "        \n",
    "        X_new[count,addon+0] = i[i.nonzero()].mean()/6\n",
    "        X_new[count,addon+1] = i[i.nonzero()].std()/6\n",
    "        temp = np.ptp(i[i.nonzero()])\n",
    "        if(temp == 0):\n",
    "            X_new[count,addon+2] = np.max(X_new[:,addon+2])\n",
    "        else:\n",
    "            X_new[count,addon+2] = 6*X_new[count,addon+0]*(1.0/(temp))\n",
    "        X_new[count,addon+3] = np.max(i[i.nonzero()])/6\n",
    "        X_new[count,addon+4] = np.min(i[i.nonzero()])/6\n",
    "        a = i\n",
    "        X_new[count,addon+5] = np.sum(np.logical_and(a>0.1, a<=1))\n",
    "        X_new[count,addon+6] = np.sum(np.logical_and(a>1, a<=2))\n",
    "        X_new[count,addon+7] = np.sum(np.logical_and(a>2, a<=3))\n",
    "        X_new[count,addon+8] = np.sum(np.logical_and(a>3, a<=4))\n",
    "        X_new[count,addon+9] = np.sum(np.logical_and(a>4, a<=5))\n",
    "        X_new[count,addon+10] = np.sum(np.logical_and(a>5, a<=6))\n",
    "        \n",
    "        count +=1\n",
    "    return X_new"
   ]
  },
  {
   "cell_type": "code",
   "execution_count": 103,
   "metadata": {
    "_uuid": "76fcc638721a9682a66a29d50670f5dbd3e3f24f",
    "collapsed": false
   },
   "outputs": [
    {
     "name": "stdout",
     "output_type": "stream",
     "text": [
      "(1471, 11)\n"
     ]
    }
   ],
   "source": [
    "X_2017 = scores_covertion(input_scores)\n",
    "print(X_2017.shape)\n",
    "# np.mean(X_2017,axis=0)\n",
    "mean_2017 = np.mean(X_2017[:,2],axis = 0)\n",
    "std_2017 = np.std(X_2017[:,2],axis = 0)"
   ]
  },
  {
   "cell_type": "code",
   "execution_count": 104,
   "metadata": {
    "_uuid": "1ebe7286c92e61c3e29dc37a43bd3d9d203a221a",
    "collapsed": true
   },
   "outputs": [],
   "source": [
    "X_2017[:,2] = (X_2017[:,2]-mean_2017)/std_2017\n",
    "\n",
    "#m_2017 = np.mean(X_2017[:,2])\n",
    "#s_2017 = np.std(X_2017[:,2])\n",
    "\n"
   ]
  },
  {
   "cell_type": "code",
   "execution_count": 88,
   "metadata": {
    "_uuid": "c8931fe069ddc44eede3df6ca5d4ea5c362b7c7d",
    "collapsed": false
   },
   "outputs": [
    {
     "data": {
      "image/png": "[encoded data removed]",
      "text/plain": [
       "<matplotlib.figure.Figure at 0x7f2f90260320>"
      ]
     },
     "metadata": {},
     "output_type": "display_data"
    }
   ],
   "source": [
    "plt.plot((output_class[1000:1100]-0.5)*2)\n",
    "plt.plot(X_2017[1000:1100,2])\n",
    "plt.show()"
   ]
  },
  {
   "cell_type": "code",
   "execution_count": 67,
   "metadata": {
    "_uuid": "42a589e057394549fd6972ecd8e420c7082218bd",
    "collapsed": false
   },
   "outputs": [
    {
     "data": {
      "image/png": "[encoded data removed]",
      "text/plain": [
       "<matplotlib.figure.Figure at 0x7f2f905c7ef0>"
      ]
     },
     "metadata": {},
     "output_type": "display_data"
    }
   ],
   "source": [
    "plt.hist(X_2017[:,2], bins=100)\n",
    "#plt.hist(X_new[750:-1,7], bins=100)\n",
    "plt.show()"
   ]
  },
  {
   "cell_type": "code",
   "execution_count": 94,
   "metadata": {
    "_uuid": "f3dfee5f6bb44ad469dba487b36cae1d143da1b0",
    "collapsed": true
   },
   "outputs": [],
   "source": [
    "Accept_2018=pd.read_excel('../input/acceptedPaperDetails_2018.xlsx');\n",
    "Reject_2018=pd.read_excel('../input/rejectPaperDetails_2018.xlsx');\n",
    "\n",
    "Accept_2018[\"result\"]=pd.Series(np.zeros(len(Accept_2018),dtype=float)) \n",
    "Accept_2018[\"mean\"]=pd.Series(np.zeros(len(Accept_2018),dtype=float)) \n",
    "#Accept_2018.info()\n",
    "Reject_2018[\"result\"]=pd.Series(np.ones(len(Reject_2018),dtype=float)) \n",
    "Reject_2018[\"mean\"]=pd.Series(np.zeros(len(Reject_2018),dtype=float)) \n",
    "#Reject_2018.info()\n",
    "\n",
    "\n",
    "data_2018 = Accept_2018.append(Reject_2018, ignore_index=True)\n",
    "def text_toscore(temp):\n",
    "    temp = temp.split()\n",
    "    score = [float(i) for i in temp]\n",
    "    m = np.mean(score)\n",
    "    s = np.std(score)\n",
    "    return score,m,s\n",
    "\n",
    "for i in data_2018.index:\n",
    "    #print(i)\n",
    "    temp = data_2018.iloc[i][\"Scores\"]\n",
    "    #print(temp)\n",
    "    score,m,s = text_toscore(temp) \n",
    "    #print(m)\n",
    "    data_2018.at[i, 'mean'] = m\n",
    "    \n",
    "data_2018 = data_2018.fillna(\"\")\n",
    "Data_2018 = data_2018.sort_values(by=['mean'])\n",
    "#Data_2018.info()\n",
    "#Data_2018.tail()\n",
    "\n",
    "input_scores_2018=np.zeros((len(Data_2018),6)) \n",
    "output_class_2018=np.zeros((len(Data_2018),))\n",
    "count = 0\n",
    "for i in range(len(Data_2018)):\n",
    "    #print(i)\n",
    "    temp = Data_2018.iloc[i][\"Scores\"]\n",
    "    result = Data_2018.iloc[i][\"result\"]\n",
    "    #print(temp)\n",
    "    score,m,s = text_toscore(temp) \n",
    "    #print(m)\n",
    "    input_scores_2018[count,0:len(score)]=score\n",
    "    output_class_2018[count] = result\n",
    "    count+=1\n",
    "    "
   ]
  },
  {
   "cell_type": "code",
   "execution_count": 95,
   "metadata": {
    "_uuid": "ba6dd31fdb5c4d346f08419c399f9aaf87bb685f",
    "collapsed": false
   },
   "outputs": [
    {
     "name": "stdout",
     "output_type": "stream",
     "text": [
      "(1331, 6)\n",
      "(1331,)\n"
     ]
    }
   ],
   "source": [
    "print(input_scores_2018.shape)\n",
    "print(output_class_2018.shape)"
   ]
  },
  {
   "cell_type": "code",
   "execution_count": 96,
   "metadata": {
    "_uuid": "bb20d5bf936f59e230a4ae558833c5ef8ce042c0",
    "collapsed": false
   },
   "outputs": [
    {
     "name": "stdout",
     "output_type": "stream",
     "text": [
      "(1331, 11)\n"
     ]
    }
   ],
   "source": [
    "X_2018 = scores_covertion(input_scores_2018)\n",
    "print(X_2018.shape)\n",
    "# np.mean(X_2017,axis=0)\n",
    "mean_2018 = np.mean(X_2018[:,2],axis = 0)\n",
    "std_2018 = np.std(X_2018[:,2],axis = 0)"
   ]
  },
  {
   "cell_type": "code",
   "execution_count": 106,
   "metadata": {
    "_uuid": "68c7be9cb69349ce751202dbd41e128b2d22f33c",
    "collapsed": false
   },
   "outputs": [
    {
     "data": {
      "text/plain": [
       "array([ 0.68017865,  0.11653894, -0.82314415,  0.82209492,  0.52795517,\n",
       "        0.00601052,  0.18031555,  0.55146506,  0.82870023,  1.47407964,\n",
       "        0.87678437])"
      ]
     },
     "execution_count": 106,
     "metadata": {},
     "output_type": "execute_result"
    }
   ],
   "source": [
    "X_2018[:,2] = (X_2018[:,2]-mean_2017)/std_2017\n",
    "np.mean(X_2018,axis=0)"
   ]
  },
  {
   "cell_type": "code",
   "execution_count": 105,
   "metadata": {
    "_uuid": "279d0de49fa938a50bf6827950dd2b77b8c0ce33",
    "collapsed": false
   },
   "outputs": [
    {
     "data": {
      "text/plain": [
       "array([ 6.57026399e-01,  1.22192446e-01, -4.31711468e-17,  8.08050079e-01,\n",
       "        4.99331521e-01,  6.79809653e-04,  1.44799456e-01,  6.51937458e-01,\n",
       "        1.14751869e+00,  1.43643780e+00,  5.25492862e-01])"
      ]
     },
     "execution_count": 105,
     "metadata": {},
     "output_type": "execute_result"
    }
   ],
   "source": [
    "np.mean(X_2017,axis=0)"
   ]
  },
  {
   "cell_type": "code",
   "execution_count": 107,
   "metadata": {
    "_uuid": "d4328ee1e3c6935e9960feea4ada8c59488ce16b",
    "collapsed": false
   },
   "outputs": [
    {
     "data": {
      "text/plain": [
       "array([0.25833333, 0.03061862, 0.13585115, 0.29166667, 0.21666667,\n",
       "       0.        , 4.        , 0.        , 0.        , 0.        ,\n",
       "       0.        ])"
      ]
     },
     "execution_count": 107,
     "metadata": {},
     "output_type": "execute_result"
    }
   ],
   "source": [
    "X_2017[0]"
   ]
  },
  {
   "cell_type": "code",
   "execution_count": 108,
   "metadata": {
    "_uuid": "65b5a147b375b9e0efd0d087aa5a94e9c65ffc4a",
    "collapsed": false
   },
   "outputs": [
    {
     "data": {
      "text/plain": [
       "array([ 0.19791667,  0.0180422 , -0.72470056,  0.20833333,  0.16666667,\n",
       "        1.        ,  3.        ,  0.        ,  0.        ,  0.        ,\n",
       "        0.        ])"
      ]
     },
     "execution_count": 108,
     "metadata": {},
     "output_type": "execute_result"
    }
   ],
   "source": [
    "X_2018[0]"
   ]
  },
  {
   "cell_type": "code",
   "execution_count": 112,
   "metadata": {
    "_uuid": "3f4424add464cb08cfa3d23fbb4a409b5703a66a",
    "collapsed": true
   },
   "outputs": [],
   "source": [
    "from sklearn import linear_model\n",
    "regr = linear_model.LinearRegression()\n",
    "regr.fit(X_2017, output_class)\n",
    "pred =regr.predict(X_2018)"
   ]
  },
  {
   "cell_type": "code",
   "execution_count": 128,
   "metadata": {
    "_uuid": "886ac03455e0e7cafebde0a4371786361396c5a4",
    "collapsed": false,
    "scrolled": true
   },
   "outputs": [
    {
     "name": "stdout",
     "output_type": "stream",
     "text": [
      "0.0 0.43726521412471825\n",
      "0.1 0.43726521412471825\n",
      "0.2 0.43726521412471825\n",
      "0.3 0.43726521412471825\n",
      "0.4 0.43726521412471825\n",
      "0.5 0.43726521412471825\n",
      "0.6 0.439519158527423\n",
      "0.7 0.4530428249436514\n",
      "0.8 0.5041322314049587\n",
      "0.9 0.6040570999248686\n",
      "1.0 0.667167543200601\n",
      "1.1 0.7468069120961683\n",
      "1.2 0.8204357625845229\n",
      "1.3 0.8670172802404207\n",
      "1.4 0.8797896318557475\n",
      "1.5 0.8602554470323065\n",
      "1.6 0.8151765589782118\n",
      "1.7 0.768595041322314\n",
      "1.8 0.7205108940646131\n",
      "1.9 0.67618332081142\n"
     ]
    }
   ],
   "source": [
    "score_calculator = np.zeros((len(X_2018),))\n",
    "for j in np.arange(0,20):\n",
    "    score_calculator = np.zeros((len(X_2018),))\n",
    "    for i in range(len(pred)):\n",
    "        if(pred[i]>(j/10)-1):\n",
    "            score_calculator[i] = 1\n",
    "    print(str(j/10)+' '+str(accuracy_score(output_class_2018, score_calculator)))"
   ]
  },
  {
   "cell_type": "code",
   "execution_count": 132,
   "metadata": {
    "_uuid": "dd6ec71290c71c2815cf2e9ab7b4de24453c631f",
    "collapsed": true
   },
   "outputs": [],
   "source": [
    "from sklearn.ensemble import RandomForestClassifier\n",
    "clf = RandomForestClassifier(n_estimators=100,n_jobs=-1)\n",
    "clf.fit(X_2017, output_class)\n",
    "pred =clf.predict(X_2018)"
   ]
  },
  {
   "cell_type": "code",
   "execution_count": 133,
   "metadata": {
    "_uuid": "3fe67614d7693de130cab458cb5907efd4a824c7",
    "collapsed": false
   },
   "outputs": [
    {
     "name": "stdout",
     "output_type": "stream",
     "text": [
      "0.8850488354620586\n"
     ]
    }
   ],
   "source": [
    "print(str(accuracy_score(output_class_2018, pred)))"
   ]
  },
  {
   "cell_type": "code",
   "execution_count": 138,
   "metadata": {
    "_uuid": "8d1ba4fe00462c2fd232151285942d8cc8fc43c0",
    "collapsed": false
   },
   "outputs": [
    {
     "name": "stdout",
     "output_type": "stream",
     "text": [
      "0.8865514650638617\n"
     ]
    }
   ],
   "source": [
    "from sklearn import svm\n",
    "clf_svm = svm.SVC(kernel='linear', C=2)\n",
    "clf_svm.fit(X_2017, output_class)\n",
    "pred =clf_svm.predict(X_2018)\n",
    "print(str(accuracy_score(output_class_2018, pred)))"
   ]
  },
  {
   "cell_type": "code",
   "execution_count": 137,
   "metadata": {
    "_uuid": "5f1721fab6fc134e24bb40cd2bf2715d4f5c779d",
    "collapsed": false
   },
   "outputs": [
    {
     "name": "stdout",
     "output_type": "stream",
     "text": [
      "0.836213373403456\n"
     ]
    },
    {
     "name": "stderr",
     "output_type": "stream",
     "text": [
      "/opt/conda/lib/python3.6/site-packages/sklearn/svm/base.py:196: FutureWarning: The default value of gamma will change from 'auto' to 'scale' in version 0.22 to account better for unscaled features. Set gamma explicitly to 'auto' or 'scale' to avoid this warning.\n",
      "  \"avoid this warning.\", FutureWarning)\n"
     ]
    }
   ],
   "source": [
    "clf_svm = svm.SVC(kernel='rbf', C=1)\n",
    "clf_svm.fit(X_2017, output_class)\n",
    "pred =clf_svm.predict(X_2018)\n",
    "print(str(accuracy_score(output_class_2018, pred)))"
   ]
  },
  {
   "cell_type": "code",
   "execution_count": 145,
   "metadata": {
    "_uuid": "b1c6c77b981643350204cc049b70e2b8a4d8fc4b",
    "collapsed": false
   },
   "outputs": [
    {
     "name": "stdout",
     "output_type": "stream",
     "text": [
      "0.8842975206611571\n"
     ]
    },
    {
     "name": "stderr",
     "output_type": "stream",
     "text": [
      "/opt/conda/lib/python3.6/site-packages/sklearn/svm/base.py:196: FutureWarning: The default value of gamma will change from 'auto' to 'scale' in version 0.22 to account better for unscaled features. Set gamma explicitly to 'auto' or 'scale' to avoid this warning.\n",
      "  \"avoid this warning.\", FutureWarning)\n"
     ]
    }
   ],
   "source": [
    "clf_svm = svm.SVC(kernel='poly', C=1)\n",
    "clf_svm.fit(X_2017, output_class)\n",
    "pred =clf_svm.predict(X_2018)\n",
    "print(str(accuracy_score(output_class_2018, pred)))"
   ]
  },
  {
   "cell_type": "code",
   "execution_count": 154,
   "metadata": {
    "_uuid": "e04244fadeb61d5f1a0447ca8ef82ebb9aefd925",
    "collapsed": false
   },
   "outputs": [
    {
     "name": "stdout",
     "output_type": "stream",
     "text": [
      "0.864763335837716\n"
     ]
    }
   ],
   "source": [
    "from sklearn.neighbors import KNeighborsClassifier\n",
    "clf_neigh = KNeighborsClassifier(n_neighbors=7)\n",
    "clf_neigh.fit(X_2017, output_class)\n",
    "pred =clf_neigh.predict(X_2018)\n",
    "print(str(accuracy_score(output_class_2018, pred)))"
   ]
  },
  {
   "cell_type": "code",
   "execution_count": 160,
   "metadata": {
    "_uuid": "8bad8046c9bb312325113cc7e784ea8a42c235d9",
    "collapsed": true
   },
   "outputs": [],
   "source": [
    "import xgboost as xgb\n",
    "model = xgb.XGBClassifier()\n",
    "model.fit(X_2017, output_class)\n",
    "pred = model.predict(X_2018)"
   ]
  },
  {
   "cell_type": "code",
   "execution_count": 161,
   "metadata": {
    "_uuid": "16ec4cf9a7441c777226e89ab4ba8aa00f78d022",
    "collapsed": false
   },
   "outputs": [
    {
     "name": "stdout",
     "output_type": "stream",
     "text": [
      "0.8820435762584523\n"
     ]
    }
   ],
   "source": [
    "print(str(accuracy_score(output_class_2018, pred)))"
   ]
  },
  {
   "cell_type": "code",
   "execution_count": null,
   "metadata": {
    "_uuid": "bda4dd03f8cd86c5978ffcd12493b1929b855a1a",
    "collapsed": true
   },
   "outputs": [],
   "source": []
  }
 ],
 "metadata": {
  "kernelspec": {
   "display_name": "Python 2",
   "language": "python",
   "name": "python2"
  },
  "language_info": {
   "codemirror_mode": {
    "name": "ipython",
    "version": 3
   },
   "file_extension": ".py",
   "mimetype": "text/x-python",
   "name": "python",
   "nbconvert_exporter": "python",
   "pygments_lexer": "ipython3",
   "version": "3.6.3"
  }
 },
 "nbformat": 4,
 "nbformat_minor": 1
}
